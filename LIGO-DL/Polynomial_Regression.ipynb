{
  "nbformat": 4,
  "nbformat_minor": 0,
  "metadata": {
    "colab": {
      "name": "Polynomial_Regression.ipynb",
      "provenance": [],
      "collapsed_sections": []
    },
    "kernelspec": {
      "display_name": "Python 3",
      "name": "python3"
    }
  },
  "cells": [
    {
      "cell_type": "code",
      "metadata": {
        "colab": {
          "base_uri": "https://localhost:8080/"
        },
        "id": "_Q2bekdXv_dQ",
        "outputId": "9e6386e0-b306-4ecd-9431-e4c33291962c"
      },
      "source": [
        "from google.colab import drive\n",
        "drive.mount('/content/drive')"
      ],
      "execution_count": null,
      "outputs": [
        {
          "output_type": "stream",
          "text": [
            "Mounted at /content/drive\n"
          ],
          "name": "stdout"
        }
      ]
    },
    {
      "cell_type": "code",
      "metadata": {
        "colab": {
          "base_uri": "https://localhost:8080/"
        },
        "id": "0n-xdXE0xMfY",
        "outputId": "51cc5307-14dc-4712-d739-d6feab3e8b0d"
      },
      "source": [
        "%cd \"/content/drive/My Drive/Polynimial Regression\""
      ],
      "execution_count": null,
      "outputs": [
        {
          "output_type": "stream",
          "text": [
            "/content/drive/My Drive/Polynimial Regression\n"
          ],
          "name": "stdout"
        }
      ]
    },
    {
      "cell_type": "code",
      "metadata": {
        "colab": {
          "base_uri": "https://localhost:8080/"
        },
        "id": "Q4sbU4GBxnan",
        "outputId": "30caa573-455a-449c-f580-44056028bbc4"
      },
      "source": [
        "!ls"
      ],
      "execution_count": null,
      "outputs": [
        {
          "output_type": "stream",
          "text": [
            "data.csv  Polynomial_Regression.ipynb\n"
          ],
          "name": "stdout"
        }
      ]
    },
    {
      "cell_type": "code",
      "metadata": {
        "id": "os4H5XCVxt75"
      },
      "source": [
        "import csv\n",
        "data = csv.reader(\"data.csv\", dialect='excel')"
      ],
      "execution_count": null,
      "outputs": []
    },
    {
      "cell_type": "code",
      "metadata": {
        "id": "GpcP0bx1x5Mo"
      },
      "source": [
        "import pandas as pd\n",
        "import numpy as np"
      ],
      "execution_count": null,
      "outputs": []
    },
    {
      "cell_type": "code",
      "metadata": {
        "colab": {
          "base_uri": "https://localhost:8080/"
        },
        "id": "vkSozLBfx8rO",
        "outputId": "601d39cd-7bbe-4644-8648-e596cba5e467"
      },
      "source": [
        "from numpy import genfromtxt\n",
        "my_data = genfromtxt('data.csv', delimiter=',')\n",
        "data = my_data\n",
        "data.shape"
      ],
      "execution_count": null,
      "outputs": [
        {
          "output_type": "execute_result",
          "data": {
            "text/plain": [
              "(200000,)"
            ]
          },
          "metadata": {
            "tags": []
          },
          "execution_count": 6
        }
      ]
    },
    {
      "cell_type": "code",
      "metadata": {
        "colab": {
          "base_uri": "https://localhost:8080/"
        },
        "id": "W9pY4FsvyA2t",
        "outputId": "08f3a6ea-32ed-424b-8b48-90f3a5ad61de"
      },
      "source": [
        "import matplotlib.pyplot as plt\n",
        "\n",
        "      \n",
        "X = np.arange(200000)\n",
        "Y = data\n",
        "print(X.shape)\n",
        "print(Y.shape)"
      ],
      "execution_count": null,
      "outputs": [
        {
          "output_type": "stream",
          "text": [
            "(200000,)\n",
            "(200000,)\n"
          ],
          "name": "stdout"
        }
      ]
    },
    {
      "cell_type": "code",
      "metadata": {
        "id": "zIyw5rJlyEVf"
      },
      "source": [
        "from sklearn.metrics import r2_score"
      ],
      "execution_count": null,
      "outputs": []
    },
    {
      "cell_type": "code",
      "metadata": {
        "colab": {
          "base_uri": "https://localhost:8080/"
        },
        "id": "0OhgWlTDyKsj",
        "outputId": "1ae332bc-a75e-415e-fec1-935bfac2c5ce"
      },
      "source": [
        "x = X\n",
        "y = Y\n",
        "mymodel = np.poly1d(np.polyfit(x, y, 10))\n",
        "\n",
        "print(r2_score(y, mymodel(x)))"
      ],
      "execution_count": null,
      "outputs": [
        {
          "output_type": "stream",
          "text": [
            "0.9977175904369813\n"
          ],
          "name": "stdout"
        }
      ]
    },
    {
      "cell_type": "code",
      "metadata": {
        "colab": {
          "base_uri": "https://localhost:8080/",
          "height": 265
        },
        "id": "5PVFwyMHyNHi",
        "outputId": "f73cc587-a3d9-4e16-8625-cf7877c0e08c"
      },
      "source": [
        "import numpy\n",
        "myline = numpy.linspace(0,200000,50000)\n",
        "\n",
        "plt.scatter(x, y, color='red')\n",
        "plt.plot(myline, mymodel(myline), color='blue')\n",
        "plt.show()"
      ],
      "execution_count": null,
      "outputs": [
        {
          "output_type": "display_data",
          "data": {
            "image/png": "[encoded data removed]",
            "text/plain": [
              "<Figure size 432x288 with 1 Axes>"
            ]
          },
          "metadata": {
            "tags": [],
            "needs_background": "light"
          }
        }
      ]
    },
    {
      "cell_type": "code",
      "metadata": {
        "colab": {
          "base_uri": "https://localhost:8080/"
        },
        "id": "HRctrydDyQTA",
        "outputId": "54f46c0c-8971-44cc-bdcd-3a1467fd29bd"
      },
      "source": [
        "print(mymodel)"
      ],
      "execution_count": null,
      "outputs": [
        {
          "output_type": "stream",
          "text": [
            "           12             11             10             9             8\n",
            "2.097e-58 x  - 2.453e-52 x  + 1.243e-46 x  - 3.564e-41 x + 6.331e-36 x\n",
            "              7             6             5             4             3\n",
            " - 7.208e-31 x + 5.311e-26 x - 2.574e-21 x + 8.716e-17 x - 2.114e-12 x\n",
            "              2\n",
            " + 2.223e-08 x + 0.0002534 x - 1.038\n"
          ],
          "name": "stdout"
        }
      ]
    },
    {
      "cell_type": "code",
      "metadata": {
        "id": "04GJWgtQpzYu",
        "colab": {
          "base_uri": "https://localhost:8080/"
        },
        "outputId": "f5dc1780-e489-4608-f910-8f432aa9a059"
      },
      "source": [
        "from sklearn.linear_model import LinearRegression \n",
        "from sklearn.preprocessing import PolynomialFeatures \n",
        "\n",
        "poly = PolynomialFeatures(degree = 9) \n",
        "X_poly = poly.fit_transform(X.reshape(-1, 1)) \n",
        "  \n",
        "poly.fit(X_poly, y) \n",
        "lin2 = LinearRegression() \n",
        "lin2.fit(X_poly, y) "
      ],
      "execution_count": null,
      "outputs": [
        {
          "output_type": "execute_result",
          "data": {
            "text/plain": [
              "LinearRegression(copy_X=True, fit_intercept=True, n_jobs=None, normalize=False)"
            ]
          },
          "metadata": {
            "tags": []
          },
          "execution_count": 23
        }
      ]
    },
    {
      "cell_type": "code",
      "metadata": {
        "colab": {
          "base_uri": "https://localhost:8080/",
          "height": 281
        },
        "id": "Q4GIuIa9R624",
        "outputId": "9deafb9d-10d4-49a0-9993-2acfc8b6bd36"
      },
      "source": [
        "plt.scatter(X, y, color = 'blue') \n",
        "  \n",
        "plt.plot(X, lin2.predict(poly.fit_transform(X.reshape(-1, 1))), color = 'red') \n",
        "plt.title('Polynomial Regression') \n",
        "  \n",
        "plt.show() "
      ],
      "execution_count": null,
      "outputs": [
        {
          "output_type": "display_data",
          "data": {
            "image/png": "[encoded data removed]",
            "text/plain": [
              "<Figure size 432x288 with 1 Axes>"
            ]
          },
          "metadata": {
            "tags": [],
            "needs_background": "light"
          }
        }
      ]
    },
    {
      "cell_type": "code",
      "metadata": {
        "colab": {
          "base_uri": "https://localhost:8080/"
        },
        "id": "1bCFms3VSMha",
        "outputId": "ab68f0bb-4d4a-4fe5-c56f-06a3c933b3f3"
      },
      "source": [
        "print(X_poly)"
      ],
      "execution_count": null,
      "outputs": [
        {
          "output_type": "stream",
          "text": [
            "[[1.00000000e+00 0.00000000e+00 0.00000000e+00 ... 0.00000000e+00\n",
            "  0.00000000e+00 0.00000000e+00]\n",
            " [1.00000000e+00 1.00000000e+00 1.00000000e+00 ... 1.00000000e+00\n",
            "  1.00000000e+00 1.00000000e+00]\n",
            " [1.00000000e+00 2.00000000e+00 4.00000000e+00 ... 1.28000000e+02\n",
            "  2.56000000e+02 5.12000000e+02]\n",
            " ...\n",
            " [1.00000000e+00 1.99997000e+05 3.99988000e+10 ... 1.27986561e+37\n",
            "  2.55969282e+42 5.11930884e+47]\n",
            " [1.00000000e+00 1.99998000e+05 3.99992000e+10 ... 1.27991040e+37\n",
            "  2.55979521e+42 5.11953922e+47]\n",
            " [1.00000000e+00 1.99999000e+05 3.99996000e+10 ... 1.27995520e+37\n",
            "  2.55989760e+42 5.11976960e+47]]\n"
          ],
          "name": "stdout"
        }
      ]
    },
    {
      "cell_type": "code",
      "metadata": {
        "id": "8H4G5ZliUAwx"
      },
      "source": [
        ""
      ],
      "execution_count": null,
      "outputs": []
    }
  ]
}